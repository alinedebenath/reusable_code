{
 "cells": [
  {
   "cell_type": "markdown",
   "metadata": {},
   "source": [
    "# Code to keep on memory"
   ]
  },
  {
   "cell_type": "raw",
   "metadata": {},
   "source": [
    "Stanford Part Of Speech tagg (https://www.le-geek.com/pos_tag-pour-les-textes-francais/)"
   ]
  },
  {
   "cell_type": "code",
   "execution_count": null,
   "metadata": {},
   "outputs": [],
   "source": [
    "from nltk.tag.stanford import StanfordPOSTagger\n",
    "java_path = \"C:/Program Files (x86)/Java/jre1.8.0_231/bin/java.exe\"\n",
    "os.environ['JAVAHOME'] = java_path\n",
    "root_path=\"./stanford-postagger-full-2018-10-16/\"\n",
    "pos_tagger = StanfordPOSTagger(root_path + \"models/french.tagger\", root_path + \"stanford-postagger.jar\",encoding='utf8') #instance de la classe StanfordPOSTagger en UTF-8\n",
    "#after tokenizing\n",
    "z=[]\n",
    "[z.append(word) for word, tags in pos_tagger.tag(s) if tags in ('Adj', 'N', 'NC', 'V', 'Adv', 'PRO', 'I', 'CS',)] "
   ]
  },
  {
   "cell_type": "code",
   "execution_count": 67,
   "metadata": {},
   "outputs": [],
   "source": [
    "liste1=[10,85,2,5]"
   ]
  },
  {
   "cell_type": "code",
   "execution_count": 68,
   "metadata": {},
   "outputs": [
    {
     "data": {
      "text/plain": [
       "(2, 0)"
      ]
     },
     "execution_count": 68,
     "metadata": {},
     "output_type": "execute_result"
    }
   ],
   "source": [
    "def min_(list):\n",
    "    if len(list) == 0:\n",
    "        return('mess')\n",
    "    else:\n",
    "        result = list[0]\n",
    "        for i in range(len(list)):\n",
    "            position = 0\n",
    "            if list[i] < result:\n",
    "                position = i\n",
    "                result = list[i]\n",
    "        return result, position\n",
    "min_(liste1)"
   ]
  },
  {
   "cell_type": "code",
   "execution_count": 69,
   "metadata": {},
   "outputs": [
    {
     "name": "stdout",
     "output_type": "stream",
     "text": [
      "[2, 2, 2, 5]\n"
     ]
    }
   ],
   "source": [
    "list2 = []\n",
    "for i in range(len(liste1)):\n",
    "    valeur, index_ = min_(liste1)\n",
    "    list2.append(valeur)\n",
    "    liste1.pop(index_)\n",
    "print(list2)"
   ]
  },
  {
   "cell_type": "code",
   "execution_count": 121,
   "metadata": {},
   "outputs": [],
   "source": [
    "liste1=[1,2,5,10,85,118,225]"
   ]
  },
  {
   "cell_type": "code",
   "execution_count": 122,
   "metadata": {},
   "outputs": [],
   "source": [
    "def isin_(x, liste):\n",
    "    g = 0\n",
    "    d = len(liste)-1\n",
    "    if x < liste[g] or x > liste[d]:\n",
    "        return False\n",
    "    if x == liste[g] or x == liste[d]:\n",
    "        return True\n",
    "    while (d - g) // 2 > 0:\n",
    "        m = g + ((d-g) // 2)\n",
    "        if x == liste[m] :\n",
    "            return True\n",
    "        elif x < liste[m]:\n",
    "            d = m\n",
    "        else:\n",
    "            g = m\n",
    "    return False"
   ]
  },
  {
   "cell_type": "code",
   "execution_count": 123,
   "metadata": {},
   "outputs": [
    {
     "data": {
      "text/plain": [
       "True"
      ]
     },
     "execution_count": 123,
     "metadata": {},
     "output_type": "execute_result"
    }
   ],
   "source": [
    "isin_(85,liste1)"
   ]
  },
  {
   "cell_type": "code",
   "execution_count": 127,
   "metadata": {},
   "outputs": [
    {
     "data": {
      "text/plain": [
       "10.308952660644293"
      ]
     },
     "execution_count": 127,
     "metadata": {},
     "output_type": "execute_result"
    }
   ],
   "source": [
    "import math\n",
    "math.log(30000)"
   ]
  },
  {
   "cell_type": "code",
   "execution_count": null,
   "metadata": {},
   "outputs": [],
   "source": [
    "##word2vec how to do\n",
    "from gensim.utils import tokenize\n",
    "sentance = [list(tokenize(s, deacc=True, lower=True)) for s in X_train]\n",
    "from gensim.models import word2vec\n",
    "model = word2vec.Word2Vec(sentance, size=300, window=20,min_count=2, workers=1, iter=100)\n",
    "import numpy\n",
    "def get_vect(word, model):\n",
    "    try:\n",
    "        return model.wv[word]\n",
    "    except KeyError:\n",
    "        return numpy.zeros((model.vector_size,))\n",
    "\n",
    "def sum_vectors(phrase, model):\n",
    "    return sum(get_vect(w, model) for w in phrase)\n",
    "\n",
    "def word2vec_features(X, model):\n",
    "    feats = numpy.vstack([sum_vectors(X, model) for p in X])\n",
    "    return feats\n",
    "\n",
    "wv_train_feat = word2vec_features(X_train, model)\n",
    "wv_train_feat.shape\n",
    "svc = SVC()\n",
    "svc.fit(wv_train_feat,y_train_svc)\n",
    "wv_test_feat = word2vec_features(X_test_svc, model)\n",
    "svc.score(wv_test_feat, y_test_svc)"
   ]
  },
  {
   "cell_type": "code",
   "execution_count": null,
   "metadata": {},
   "outputs": [],
   "source": [
    "#exercice creating function to find max lenght of triangle side\n",
    "def my_function(X):\n",
    "    for x in reversed(range(5, X)):\n",
    "        for y in reversed (range(4, x)) :\n",
    "            for z in reversed (range(3, y)) :\n",
    "                if (x*x==y*y+z*z):\n",
    "                    return max([x,y,z])\n",
    "    return None\n",
    "                \n",
    "X = input(\"What is the maximal length of the triangle side? Enter a number: \")\n",
    "print(\"The longest side possible is \" + str(my_function(int(X))))"
   ]
  },
  {
   "cell_type": "code",
   "execution_count": null,
   "metadata": {},
   "outputs": [],
   "source": []
  }
 ],
 "metadata": {
  "kernelspec": {
   "display_name": "Python 3",
   "language": "python",
   "name": "python3"
  },
  "language_info": {
   "codemirror_mode": {
    "name": "ipython",
    "version": 3
   },
   "file_extension": ".py",
   "mimetype": "text/x-python",
   "name": "python",
   "nbconvert_exporter": "python",
   "pygments_lexer": "ipython3",
   "version": "3.7.3"
  }
 },
 "nbformat": 4,
 "nbformat_minor": 2
}
