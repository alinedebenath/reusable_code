{
 "cells": [
  {
   "cell_type": "markdown",
   "metadata": {},
   "source": [
    "# Practice Python "
   ]
  },
  {
   "cell_type": "markdown",
   "metadata": {},
   "source": [
    "1. Create a program that asks the user to enter their name and their age. Print out a message addressed to them that tells them the year that they will turn 100 years old."
   ]
  },
  {
   "cell_type": "code",
   "execution_count": 2,
   "metadata": {},
   "outputs": [
    {
     "name": "stdout",
     "output_type": "stream",
     "text": [
      "What is your name ? Aline\n",
      "What is your age ? 29\n",
      "Aline wil be 100 years old in 2091\n"
     ]
    }
   ],
   "source": [
    "name = input(\"What is your name ? \")\n",
    "age = int(input(\"What is your age ? \"))\n",
    "print(name, \"wil be 100 years old in\", 2020-age+100)"
   ]
  },
  {
   "cell_type": "markdown",
   "metadata": {},
   "source": [
    "2. Ask the user for a number. Depending on whether the number is even or odd, print out an appropriate message to the user. Hint: how does an even / odd number react differently when divided by 2?"
   ]
  },
  {
   "cell_type": "code",
   "execution_count": 4,
   "metadata": {},
   "outputs": [
    {
     "name": "stdout",
     "output_type": "stream",
     "text": [
      "Choose a number : 3\n",
      "This number is odd\n"
     ]
    }
   ],
   "source": [
    "number = int(input(\"Choose a number : \"))\n",
    "if number%2 == 0:\n",
    "    print(\"This number is even\")\n",
    "else:\n",
    "    print(\"This number is odd\")"
   ]
  },
  {
   "cell_type": "markdown",
   "metadata": {},
   "source": [
    "Extras:\n",
    "If the number is a multiple of 4, print out a different message.<br>\n",
    "Ask the user for two numbers: one number to check (call it num) and one number to divide by (check). If check divides evenly into num, tell that to the user. If not, print a different appropriate message.\n"
   ]
  },
  {
   "cell_type": "code",
   "execution_count": 6,
   "metadata": {},
   "outputs": [
    {
     "name": "stdout",
     "output_type": "stream",
     "text": [
      "Choose a number : 16\n",
      "This number is a multiple of 4\n"
     ]
    }
   ],
   "source": [
    "number = int(input(\"Choose a number : \"))\n",
    "if number%4 == 0:\n",
    "    print(\"This number is a multiple of 4\")\n",
    "elif number%2 == 0:\n",
    "    print(\"This number is even\")\n",
    "else:\n",
    "    print(\"This number is odd\")"
   ]
  },
  {
   "cell_type": "code",
   "execution_count": 11,
   "metadata": {},
   "outputs": [
    {
     "name": "stdout",
     "output_type": "stream",
     "text": [
      "Choose two numbers : 4 2\n",
      "4 divides evenly by 2\n"
     ]
    }
   ],
   "source": [
    "num, check = [int(i) for i in input(\"Choose two numbers : \").split()]\n",
    "if num % check == 0:\n",
    "    print(num, \"divides evenly by\", check)\n",
    "else:\n",
    "    print(num, \"does not divide evenly by\", check)"
   ]
  },
  {
   "cell_type": "markdown",
   "metadata": {},
   "source": [
    "3. Take a list, say for example this one:\n",
    "\n",
    "  a = [1, 1, 2, 3, 5, 8, 13, 21, 34, 55, 89]\n",
    "\n",
    "and write a program that prints out all the elements of the list that are less than 5."
   ]
  },
  {
   "cell_type": "code",
   "execution_count": 15,
   "metadata": {},
   "outputs": [
    {
     "data": {
      "text/plain": [
       "[1, 1, 2, 3]"
      ]
     },
     "execution_count": 15,
     "metadata": {},
     "output_type": "execute_result"
    }
   ],
   "source": [
    "a = [1, 1, 2, 3, 5, 8, 13, 21, 34, 55, 89]\n",
    "[b for b in a if b < 5]"
   ]
  },
  {
   "cell_type": "markdown",
   "metadata": {},
   "source": [
    "4. Create a program that asks the user for a number and then prints out a list of all the divisors of that number. (If you don’t know what a divisor is, it is a number that divides evenly into another number. For example, 13 is a divisor of 26 because 26 / 13 has no remainder.)"
   ]
  },
  {
   "cell_type": "code",
   "execution_count": 42,
   "metadata": {},
   "outputs": [
    {
     "name": "stdout",
     "output_type": "stream",
     "text": [
      "Entrez un nombre : 20\n",
      "Voici les diviseurs de 20 : [1, 2, 4, 5, 10, 20]\n"
     ]
    }
   ],
   "source": [
    "num = int(input(\"Entrez un nombre : \"))\n",
    "lst=[]\n",
    "for x in range(1,num+1):\n",
    "    if num%x == 0:\n",
    "        lst.append(x)\n",
    "print(\"Voici les diviseurs de {} : {}\".format(num,lst))"
   ]
  },
  {
   "cell_type": "markdown",
   "metadata": {},
   "source": [
    "5. Take two lists, say for example these two:\n",
    "\n",
    "  a = [1, 1, 2, 3, 5, 8, 13, 21, 34, 55, 89]<br>\n",
    "  b = [1, 2, 3, 4, 5, 6, 7, 8, 9, 10, 11, 12, 13]\n",
    "\n",
    "and write a program that returns a list that contains only the elements that are common between the lists (without duplicates). Make sure your program works on two lists of different sizes.\n",
    "\n",
    "Extras:<br>\n",
    "Randomly generate two lists to test this<br>\n",
    "Write this in one line of Python (don’t worry if you can’t figure this out at this point - we’ll get to it soon)\n"
   ]
  },
  {
   "cell_type": "code",
   "execution_count": 46,
   "metadata": {},
   "outputs": [
    {
     "name": "stdout",
     "output_type": "stream",
     "text": [
      "{1, 2, 3, 5, 8, 13}\n"
     ]
    }
   ],
   "source": [
    "a = [1, 1, 2, 3, 5, 8, 13, 21, 34, 55, 89]\n",
    "b = [1, 2, 3, 4, 5, 6, 7, 8, 9, 10, 11, 12, 13]\n",
    "ab = []\n",
    "for ia in a:\n",
    "    for ib in b:\n",
    "        if ia in b:\n",
    "            ab.append(ia)\n",
    "        elif ib in a:\n",
    "            ab.append(ib)\n",
    "print(set(ab))"
   ]
  },
  {
   "cell_type": "code",
   "execution_count": 48,
   "metadata": {},
   "outputs": [
    {
     "data": {
      "text/plain": [
       "{1, 2, 3, 5, 8, 13}"
      ]
     },
     "execution_count": 48,
     "metadata": {},
     "output_type": "execute_result"
    }
   ],
   "source": [
    "set(x for x in a if x in b)"
   ]
  },
  {
   "cell_type": "code",
   "execution_count": 57,
   "metadata": {},
   "outputs": [
    {
     "name": "stdout",
     "output_type": "stream",
     "text": [
      "[1, 2, 7, 14, 15, 17, 19]\n",
      "[0, 1, 2, 3, 4, 7, 8, 9, 10, 11, 13, 14, 15, 16, 17]\n"
     ]
    },
    {
     "data": {
      "text/plain": [
       "{1, 2, 7, 14, 15, 17}"
      ]
     },
     "execution_count": 57,
     "metadata": {},
     "output_type": "execute_result"
    }
   ],
   "source": [
    "import random\n",
    "a = sorted(random.sample(range(20),random.randint(5, 20)))\n",
    "b = sorted(random.sample(range(20),random.randint(5, 20)))\n",
    "print(a)\n",
    "print(b)\n",
    "set(x for x in a if x in b)"
   ]
  },
  {
   "cell_type": "markdown",
   "metadata": {},
   "source": [
    "6. Ask the user for a string and print out whether this string is a palindrome or not. (A palindrome is a string that reads the same forwards and backwards.)"
   ]
  },
  {
   "cell_type": "code",
   "execution_count": 60,
   "metadata": {},
   "outputs": [
    {
     "name": "stdout",
     "output_type": "stream",
     "text": [
      "Entrez un mot : nezen\n",
      "nezen is a palindrome\n"
     ]
    }
   ],
   "source": [
    "string = input(\"Entrez un mot : \")\n",
    "if string == string[::-1] :\n",
    "    print(string, \"is a palindrome\")\n",
    "else:\n",
    "    print(string, \"is not a palindrome\")"
   ]
  },
  {
   "cell_type": "markdown",
   "metadata": {},
   "source": [
    "7. Let’s say I give you a list saved in a variable :\n",
    "a = [1, 4, 9, 16, 25, 36, 49, 64, 81, 100].<br> Write one line of Python that takes this list a and makes a new list that has only the even elements of this list in it."
   ]
  },
  {
   "cell_type": "code",
   "execution_count": 61,
   "metadata": {},
   "outputs": [
    {
     "data": {
      "text/plain": [
       "[4, 16, 36, 64, 100]"
      ]
     },
     "execution_count": 61,
     "metadata": {},
     "output_type": "execute_result"
    }
   ],
   "source": [
    "a = [1, 4, 9, 16, 25, 36, 49, 64, 81, 100]\n",
    "[x for x in a if x%2 ==0]"
   ]
  },
  {
   "cell_type": "markdown",
   "metadata": {},
   "source": [
    "8. Make a two-player Rock-Paper-Scissors game. (Hint: Ask for player plays (using input), compare them, print out a message of congratulations to the winner, and ask if the players want to start a new game)\n",
    "\n",
    "Remember the rules:\n",
    "\n",
    "    Rock beats scissors\n",
    "    Scissors beats paper\n",
    "    Paper beats rock\n"
   ]
  },
  {
   "cell_type": "code",
   "execution_count": null,
   "metadata": {},
   "outputs": [
    {
     "name": "stdout",
     "output_type": "stream",
     "text": [
      "Welcome in Rock Paper Scissors\n",
      "Enter your choice : paper\n",
      "Computer chooses :  paper\n",
      "Tie !\n",
      "Enter your choice : rock\n",
      "Computer chooses :  rock\n",
      "Tie !\n",
      "Enter your choice : scissors\n",
      "Computer chooses :  scissors\n",
      "Tie\n",
      "Enter your choice : rock\n",
      "Computer chooses :  scissors\n",
      "You win !\n",
      "Enter your choice : rock\n",
      "Computer chooses :  scissors\n",
      "You win !\n",
      "Enter your choice : rock\n",
      "Computer chooses :  rock\n",
      "Tie !\n",
      "Enter your choice : paper\n",
      "Computer chooses :  rock\n",
      "You win !\n"
     ]
    }
   ],
   "source": [
    "n_games = 5\n",
    "game = 0\n",
    "import random\n",
    "choices = [\"rock\", \"paper\", \"scissors\"]\n",
    "\n",
    "print(\"Welcome in Rock Paper Scissors\")\n",
    "while game < n_games:\n",
    "    player1 = input(\"Enter your choice : \")\n",
    "    try:\n",
    "        player1 in choices\n",
    "    except:\n",
    "        print(\"You must enter rock, paper or scissors\")\n",
    "        player1 = inpute(\"Enter your choise : \")\n",
    "    computer = random.choice(choices)\n",
    "    print(\"Computer chooses : \",computer)\n",
    "    if player1 == \"rock\":\n",
    "        if computer == \"rock\":\n",
    "            print(\"Tie !\")\n",
    "            game+=1\n",
    "        elif computer == \"paper\":\n",
    "            print(\"Computer wins !\")\n",
    "            game+=1\n",
    "        elif computer == \"scissors\":\n",
    "            print(\"You win !\")\n",
    "            game+=1\n",
    "    elif player1 == \"paper\":\n",
    "        if computer == \"paper\":\n",
    "            print(\"Tie !\")\n",
    "            game+=1\n",
    "        elif computer == \"scissors\":\n",
    "            print(\"Computer wins !\")\n",
    "            game+=1\n",
    "        elif computer == \"rock\":\n",
    "            print(\"You win !\")\n",
    "            game+=1\n",
    "    else:\n",
    "        if computer == \"scissors\":\n",
    "            print(\"Tie\")\n",
    "            game+=1\n",
    "        elif computer == \"rock\":\n",
    "            print(\"Computer wins !\")\n",
    "            game+=1\n",
    "        elif computer == \"paper\":\n",
    "            print(\"You win !\")\n",
    "            game+=1\n",
    "print(\"The game is over.\")"
   ]
  },
  {
   "cell_type": "code",
   "execution_count": null,
   "metadata": {},
   "outputs": [],
   "source": []
  }
 ],
 "metadata": {
  "kernelspec": {
   "display_name": "Python 3",
   "language": "python",
   "name": "python3"
  },
  "language_info": {
   "codemirror_mode": {
    "name": "ipython",
    "version": 3
   },
   "file_extension": ".py",
   "mimetype": "text/x-python",
   "name": "python",
   "nbconvert_exporter": "python",
   "pygments_lexer": "ipython3",
   "version": "3.7.6"
  }
 },
 "nbformat": 4,
 "nbformat_minor": 4
}
