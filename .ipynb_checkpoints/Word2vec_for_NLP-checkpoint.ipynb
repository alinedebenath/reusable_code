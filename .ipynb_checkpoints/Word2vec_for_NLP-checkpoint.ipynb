{
 "cells": [
  {
   "cell_type": "markdown",
   "metadata": {},
   "source": [
    "# <center>Word2vec for NLP</center>"
   ]
  },
  {
   "cell_type": "raw",
   "metadata": {},
   "source": [
    "Ressources:\n",
    "http://www.xavierdupre.fr/app/papierstat/helpsphinx/notebooks/text_sentiment_wordvec.html"
   ]
  },
  {
   "cell_type": "code",
   "execution_count": null,
   "metadata": {},
   "outputs": [],
   "source": [
    "from gensim.utils import tokenize\n",
    "sentance = [list(tokenize(s, deacc=True, lower=True)) for s in X_train]\n",
    "from gensim.models import word2vec\n",
    "model = word2vec.Word2Vec(sentance, size=300, window=20,min_count=2, workers=1, iter=100)\n",
    "import numpy\n",
    "def get_vect(word, model):\n",
    "    try:\n",
    "        return model.wv[word]\n",
    "    except KeyError:\n",
    "        return numpy.zeros((model.vector_size,))\n",
    "\n",
    "def sum_vectors(phrase, model):\n",
    "    return sum(get_vect(w, model) for w in phrase)\n",
    "\n",
    "def word2vec_features(X, model):\n",
    "    feats = numpy.vstack([sum_vectors(X, model) for p in X])\n",
    "    return feats\n",
    "\n",
    "wv_train_feat = word2vec_features(X_train, model)\n",
    "wv_train_feat.shape\n",
    "svc = SVC()\n",
    "svc.fit(wv_train_feat,y_train_svc)\n",
    "wv_test_feat = word2vec_features(X_test_svc, model)\n",
    "svc.score(wv_test_feat, y_test_svc)"
   ]
  }
 ],
 "metadata": {
  "kernelspec": {
   "display_name": "Python 3",
   "language": "python",
   "name": "python3"
  },
  "language_info": {
   "codemirror_mode": {
    "name": "ipython",
    "version": 3
   },
   "file_extension": ".py",
   "mimetype": "text/x-python",
   "name": "python",
   "nbconvert_exporter": "python",
   "pygments_lexer": "ipython3",
   "version": "3.7.3"
  }
 },
 "nbformat": 4,
 "nbformat_minor": 2
}
