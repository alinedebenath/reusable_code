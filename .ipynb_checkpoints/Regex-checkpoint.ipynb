{
 "cells": [
  {
   "cell_type": "markdown",
   "metadata": {},
   "source": [
    "# <center>Regex vocabulary</center>"
   ]
  },
  {
   "cell_type": "code",
   "execution_count": 1,
   "metadata": {},
   "outputs": [],
   "source": [
    "import re"
   ]
  },
  {
   "cell_type": "raw",
   "metadata": {},
   "source": [
    ". - Period matches any single character (except newline '\\n').\n",
    "^ - Caret used to check if a string starts with a certain character.\n",
    "$ - Dollar used to check if a string ends with a certain character.\n",
    "* - Star matches zero or more occurrences of the pattern left to it.\n",
    "+ - Plus matches one or more occurrences of the pattern left to it.\n",
    "? - Question Mark matches zero or one occurrence of the pattern left to it.\n",
    "{} - Braces. Consider this code: {n,m}. This means at least n, and at most m repetitions of the pattern left to it.\n",
    "| - Alternation is used for alternation (or operator).\n",
    "() - Group, is used to group sub-patterns. For example, (a|b|c)xz match any string that matches either a or b or c followed by xz\n",
    "\\ - Backslash is used to escape various characters including all metacharacters. For example, \\$a match if a string contains $ followed by a. Here, $ is not interpreted by a RegEx engine in a special way.\n",
    "\\A - Matches if the specified characters are at the start of a string. \n",
    "    ex: \\Athe -> the sun -> Match\n",
    "                 In the sun -> No match\n",
    "\\b - Matches if the specified characters are at the beginning or end of a word.\n",
    "    ex: \\bfoo -> football -> Match\n",
    "                 a football -> Match\n",
    "\\B - Opposite of \\b. Matches if the specified characters are not at the beginning or end of a word.\n",
    "\\d - Matches any decimal digit. Equivalent to [0-9]\n",
    "\\D - Matches any non-decimal digit. Equivalent to [^0-9]\n",
    "\\s - Matches where a string contains any whitespace character.\n",
    "\\S - Matches where a string contains any non-whitespace character. \n",
    "\\w - Matches any alphanumeric character (digits and alphabets). Equivalent to [a-zA-Z0-9_]. By the way, underscore _ is also considered an alphanumeric character.\n",
    "\\W - Matches any non-alphanumeric character. Equivalent to [^a-zA-Z0-9_]\n",
    "\\Z - Matches if the specified characters are at the end of a string."
   ]
  },
  {
   "cell_type": "code",
   "execution_count": 10,
   "metadata": {},
   "outputs": [
    {
     "name": "stdout",
     "output_type": "stream",
     "text": [
      "Every words beggining by pupp: ['puppy', 'puppies', 'puppy']\n",
      "Every words beggining by r: ['rest']\n",
      "Every words with more than 4 characters: ['puppy', 'puppies', 'playing', 'wanted', 'wanted', 'puppy']\n",
      "Every words with more than 2 but less than 5 characters: ['The', 'puppy', 'saw', 'all', 'the', 'rest', 'of', 'the', 'puppi', 'es', 'playi', 'ng', 'and', 'wante', 'to', 'join', 'them', 'saw', 'this', 'and', 'wante', 'puppy', 'of', 'my', 'own']\n",
      "Every words containing an or in: ['playing', 'and', 'wanted', 'join', 'and', 'wanted']\n",
      "Every words containing an or in: []\n"
     ]
    }
   ],
   "source": [
    "text = \"The puppy saw all the rest of the puppies playing and wanted to join them. I saw this and wanted a puppy of my own!\"\n",
    "#pattern='puppy|puppies|puppi'\n",
    "#re.findall(pattern,text)\n",
    "print('Every words beggining by pupp:',re.findall('pupp\\w+', text))\n",
    "print('Every words beggining by r:',re.findall('r\\w*', text))\n",
    "print('Every words with more than 4 characters:',re.findall('\\w{5,}', text))\n",
    "print('Every words with more than 2 but less than 5 characters:',re.findall('\\w{2,5}', text))\n",
    "print('Every words containing an or in:',re.findall('\\w*[ai]n[\\w]*', text))"
   ]
  },
  {
   "cell_type": "code",
   "execution_count": null,
   "metadata": {},
   "outputs": [],
   "source": [
    "text = \"Teddy Roosevelt and Abraham Lincoln walk into a bar.\"\n",
    "print('Every words in capitals:',re.findall('[A-Z]\\w*', text))\n",
    "print('Every sets of words in capitals:',re.findall('[A-Z]\\w* [A-Z]\\w*', text))"
   ]
  },
  {
   "cell_type": "code",
   "execution_count": 2,
   "metadata": {},
   "outputs": [
    {
     "name": "stdout",
     "output_type": "stream",
     "text": [
      "Only the quotes: ['I will bet you $50 I can get the bartender to give me a free drink.', 'I am in!']\n"
     ]
    }
   ],
   "source": [
    "text = 'Roosevelt says to Lincoln, \"I will bet you $50 I can get the bartender to give me a free drink.\" Lincoln says, \"I am in!\"'\n",
    "print('Only the quotes:',re.findall(r'\"(.*?)\"', text))"
   ]
  },
  {
   "cell_type": "code",
   "execution_count": 15,
   "metadata": {},
   "outputs": [
    {
     "name": "stdout",
     "output_type": "stream",
     "text": [
      "Word of 5 letters starting with a and ending with s: ['abyss']\n"
     ]
    }
   ],
   "source": [
    "text='abyss'\n",
    "print('Word of 5 letters starting with a and ending with s:',re.findall('^a...s$', text))"
   ]
  },
  {
   "cell_type": "code",
   "execution_count": 17,
   "metadata": {},
   "outputs": [
    {
     "name": "stdout",
     "output_type": "stream",
     "text": [
      "Every numbers: ['30', '30', '14', '16', '10']\n"
     ]
    }
   ],
   "source": [
    "text = \"There were 30 students in the class. Of the 30 students, 14 were male and 16 were female. Only 10 students got A's on the exam.\"\n",
    "print('Every numbers:',re.findall('\\d+',text))"
   ]
  },
  {
   "cell_type": "code",
   "execution_count": 20,
   "metadata": {},
   "outputs": [
    {
     "name": "stdout",
     "output_type": "stream",
     "text": [
      "Every phone and security numbers : [' 876-93-2289', '(847)789-0984', ' 098-32-5295', '(987)222-0901']\n"
     ]
    }
   ],
   "source": [
    "text = \"\"\"\n",
    "Henry's social security number is 876-93-2289 and his phone number is (847)789-0984.\n",
    "Darlene's social security number is 098-32-5295 and her phone number is (987)222-0901.\n",
    "\"\"\"\n",
    "print('Every phone and security numbers :',re.findall('\\W?\\d+\\W?\\d+-\\d+', text))"
   ]
  },
  {
   "cell_type": "code",
   "execution_count": null,
   "metadata": {},
   "outputs": [],
   "source": []
  }
 ],
 "metadata": {
  "kernelspec": {
   "display_name": "Python 3",
   "language": "python",
   "name": "python3"
  },
  "language_info": {
   "codemirror_mode": {
    "name": "ipython",
    "version": 3
   },
   "file_extension": ".py",
   "mimetype": "text/x-python",
   "name": "python",
   "nbconvert_exporter": "python",
   "pygments_lexer": "ipython3",
   "version": "3.6.10"
  }
 },
 "nbformat": 4,
 "nbformat_minor": 4
}
