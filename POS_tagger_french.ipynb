{
 "cells": [
  {
   "cell_type": "markdown",
   "metadata": {},
   "source": [
    "# <center>Part Of Speech Stanford (french)</center>"
   ]
  },
  {
   "cell_type": "raw",
   "metadata": {},
   "source": [
    "Stanford Part Of Speech tagg (https://www.le-geek.com/pos_tag-pour-les-textes-francais/)"
   ]
  },
  {
   "cell_type": "code",
   "execution_count": null,
   "metadata": {},
   "outputs": [],
   "source": [
    "from nltk.tag.stanford import StanfordPOSTagger\n",
    "java_path = \"C:/Program Files (x86)/Java/jre1.8.0_231/bin/java.exe\"\n",
    "os.environ['JAVAHOME'] = java_path\n",
    "root_path=\"./stanford-postagger-full-2018-10-16/\"\n",
    "pos_tagger = StanfordPOSTagger(root_path + \"models/french.tagger\", root_path + \"stanford-postagger.jar\",encoding='utf8') #instance de la classe StanfordPOSTagger en UTF-8\n",
    "#after tokenizing\n",
    "z=[]\n",
    "[z.append(word) for word, tags in pos_tagger.tag(s) if tags in ('Adj', 'N', 'NC', 'V', 'Adv', 'PRO', 'I', 'CS',)] "
   ]
  }
 ],
 "metadata": {
  "kernelspec": {
   "display_name": "Python 3",
   "language": "python",
   "name": "python3"
  },
  "language_info": {
   "codemirror_mode": {
    "name": "ipython",
    "version": 3
   },
   "file_extension": ".py",
   "mimetype": "text/x-python",
   "name": "python",
   "nbconvert_exporter": "python",
   "pygments_lexer": "ipython3",
   "version": "3.7.3"
  }
 },
 "nbformat": 4,
 "nbformat_minor": 2
}
